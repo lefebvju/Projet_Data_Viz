{
 "cells": [
  {
   "cell_type": "code",
   "execution_count": 49,
   "id": "4d0cce9f6ad16825",
   "metadata": {
    "ExecuteTime": {
     "end_time": "2023-12-19T10:33:37.052134821Z",
     "start_time": "2023-12-19T10:33:37.003745165Z"
    },
    "collapsed": false
   },
   "outputs": [],
   "source": [
    "import json\n",
    "import csv"
   ]
  },
  {
   "cell_type": "markdown",
   "id": "1493d631",
   "metadata": {},
   "source": [
    "## Simplification des fichiers TCL initiaux"
   ]
  },
  {
   "cell_type": "code",
   "execution_count": 42,
   "id": "initial_id",
   "metadata": {
    "ExecuteTime": {
     "end_time": "2023-12-19T10:33:37.995657138Z",
     "start_time": "2023-12-19T10:33:37.860247141Z"
    },
    "collapsed": true
   },
   "outputs": [],
   "source": [
    "# lire fichier json\n",
    "dataArret = {}\n",
    "with open('data/sytral_tcl_sytral.tclarret.json') as json_file:\n",
    "    dataArret = json.load(json_file)\n",
    "\n",
    "dataLigne = {}\n",
    "with open('data/sytral_tcl_sytral.tcllignemetrofuni_2_0_0.json') as json_file:\n",
    "    dataLigne = json.load(json_file)\n",
    "    \n",
    "dataLigneTram = {}\n",
    "with open('data/sytral_tcl_sytral.tcllignetram_2_0_0.json') as json_file:\n",
    "    dataLigneTram = json.load(json_file)\n"
   ]
  },
  {
   "cell_type": "code",
   "execution_count": 43,
   "id": "47878cb14e41bdc5",
   "metadata": {
    "ExecuteTime": {
     "end_time": "2023-12-19T10:33:39.248685093Z",
     "start_time": "2023-12-19T10:33:39.245716015Z"
    },
    "collapsed": false
   },
   "outputs": [],
   "source": [
    "lignes= set()\n",
    "for nom_ligne in dataLigne['features']:\n",
    "    lignes.add((nom_ligne['properties'][\"code_ligne\"],nom_ligne['properties'][\"ligne\"]))\n",
    "for nom_ligne in dataLigneTram['features']:\n",
    "    lignes.add((nom_ligne['properties'][\"code_ligne\"],nom_ligne['properties'][\"ligne\"]))"
   ]
  },
  {
   "cell_type": "code",
   "execution_count": 44,
   "id": "610b2ddc4170c0dd",
   "metadata": {
    "ExecuteTime": {
     "end_time": "2023-12-19T10:33:40.373991956Z",
     "start_time": "2023-12-19T10:33:40.323923868Z"
    },
    "collapsed": false
   },
   "outputs": [],
   "source": [
    "# supprimer les lignes qui ne sont pas dans lignes\n",
    "dataArretcopy= dataArret.copy()\n",
    "dataArret['features']=[]\n",
    "for arret in dataArretcopy['features']:\n",
    "    add=False\n",
    "    for transport in arret['properties']['desserte'].split(','):\n",
    "        for nom_ligne in lignes:\n",
    "            if transport.split(':')[0] == nom_ligne[0]:\n",
    "                add=True\n",
    "                # si nom_ligne n'existe pas, on le crée\n",
    "                if 'nom_ligne' not in arret['properties']:\n",
    "                    arret['properties']['nom_ligne']=set()\n",
    "                arret['properties']['nom_ligne'].add(nom_ligne[1])\n",
    "    if add:\n",
    "        arret['properties']['nom_ligne']=list(arret['properties']['nom_ligne'])\n",
    "        dataArret['features'].append(arret)\n",
    "                \n",
    "                "
   ]
  },
  {
   "cell_type": "code",
   "execution_count": 45,
   "id": "fd31bc143b85b04c",
   "metadata": {
    "ExecuteTime": {
     "end_time": "2023-12-19T10:33:44.191638244Z",
     "start_time": "2023-12-19T10:33:44.162285339Z"
    },
    "collapsed": false
   },
   "outputs": [],
   "source": [
    "with open('data/sytral_tcl_sytral.tclarret_sans_bus.json', 'w') as outfile:\n",
    "    json.dump(dataArret, outfile)"
   ]
  },
  {
   "cell_type": "markdown",
   "id": "c6920aee",
   "metadata": {},
   "source": [
    "## Conversion fichier frequentation en csv"
   ]
  },
  {
   "cell_type": "code",
   "execution_count": 109,
   "id": "5e6e7348",
   "metadata": {},
   "outputs": [],
   "source": [
    "# Lecture du fichier de fréquentation\n",
    "with open('data/frequentationTCL.txt', encoding='utf-8') as f:\n",
    "    dataFrequentation = f.readlines()\n",
    "\n",
    "dataFrequentation = [x.strip() for x in dataFrequentation]\n"
   ]
  },
  {
   "cell_type": "code",
   "execution_count": 117,
   "id": "50209158",
   "metadata": {},
   "outputs": [],
   "source": [
    "# Parsing du fichier de fréquentation\n",
    "dict_freq = {}\n",
    "l_stations = []\n",
    "for stations in dataFrequentation:\n",
    "    if stations == \"\": continue\n",
    "    else:\n",
    "        lig = stations.split(':')\n",
    "        lig[0] = lig[0].strip()\n",
    "        lig[1] = lig[1].strip()\n",
    "        if lig[0].replace(' ','')==\"Ligne\":\n",
    "            nom_ligne=lig[1]\n",
    "            dict_freq[nom_ligne]={}\n",
    "        elif lig[0].replace(' ','')==\"Total\":\n",
    "            dict_freq[nom_ligne][\"Total\"]=lig[1]\n",
    "        else:\n",
    "            dict_freq[nom_ligne][lig[0]]=int(lig[1].replace(\" \", \"\"))\n",
    "            l_stations.append(lig[0])\n"
   ]
  },
  {
   "cell_type": "code",
   "execution_count": 113,
   "id": "3776d7c6",
   "metadata": {},
   "outputs": [],
   "source": [
    "with open('data/frequentationTCL.csv', 'w', encoding='utf-8') as csv_file:\n",
    "    writer = csv.writer(csv_file)\n",
    "    writer.writerow([\"ligne\",\"arret\",\"frequentation\"])\n",
    "    for nom_ligne in dict_freq:\n",
    "        for arret in dict_freq[nom_ligne]:\n",
    "            if arret!=\"Total\":\n",
    "                writer.writerow([nom_ligne,arret,dict_freq[nom_ligne][arret]])"
   ]
  },
  {
   "cell_type": "code",
   "execution_count": 118,
   "id": "360284b5",
   "metadata": {},
   "outputs": [
    {
     "data": {
      "text/plain": [
       "{'Bellecour': 67901,\n",
       " 'Saxe - Gambetta': 36889,\n",
       " 'Gorge de Loup': 28574,\n",
       " 'Grange Blanche': 26669,\n",
       " 'Gare de Vaise': 24282,\n",
       " 'Guillotière Gabriel Péri': 18004,\n",
       " 'Sans Souci': 13404,\n",
       " 'Garibaldi': 13234,\n",
       " 'Vieux Lyon': 12520,\n",
       " 'Gare de Vénissieux': 12083,\n",
       " 'Valmy': 10556,\n",
       " 'Mermoz - Pinel': 9382,\n",
       " 'Monplaisir Lumière': 8935,\n",
       " 'Parilly': 6222,\n",
       " 'Laennec': 4222,\n",
       " 'Total': '292 877 voy/j'}"
      ]
     },
     "execution_count": 118,
     "metadata": {},
     "output_type": "execute_result"
    }
   ],
   "source": [
    "dict_freq['D']"
   ]
  },
  {
   "cell_type": "markdown",
   "id": "031f1257",
   "metadata": {},
   "source": [
    "## Ajout des fréquentations dans le fichier des arrêts\t"
   ]
  },
  {
   "cell_type": "code",
   "execution_count": 119,
   "id": "a23df122",
   "metadata": {},
   "outputs": [],
   "source": [
    "dataArret = {}\n",
    "with open('data/sytral_tcl_sytral.tclarret_sans_bus.json') as json_file:\n",
    "    dataArret = json.load(json_file)\n",
    "\n",
    "# Ajout de la fréquentation dans le fichier json\n",
    "for arret in dataArret['features']:\n",
    "    # On initialise la fréquentation.\n",
    "    arret['properties']['frequentation']={}\n",
    "\n",
    "    # Un arret peut être desservi par plusieurs lignes\n",
    "    # On note la frequentation pour chaque ligne grâce à cette boucle\n",
    "    for nom_ligne in arret['properties']['nom_ligne']:\n",
    "        # On vérifie que la ligne est dans le fichier de fréquentation\n",
    "        # car celui date de 2017 (toutes les lignes n'existent pas encore)\n",
    "        if nom_ligne in dict_freq:\n",
    "            if arret['properties']['nom'].strip() in dict_freq[nom_ligne]:                \n",
    "                arret['properties']['frequentation'][nom_ligne]=dict_freq[nom_ligne][arret['properties']['nom'].strip()]\n",
    "            else:\n",
    "                print(\"Erreur : \",nom_ligne,arret['properties']['nom'].strip())                \n",
    "                arret['properties']['frequentation'][nom_ligne]=0\n",
    "        else:\n",
    "            #print(\"Erreur : \",nom_ligne,arret['properties']['nom'].strip())\n",
    "            arret['properties']['frequentation'][nom_ligne]=0"
   ]
  },
  {
   "cell_type": "code",
   "execution_count": 120,
   "id": "8792935f",
   "metadata": {},
   "outputs": [],
   "source": [
    "# Ecriture du fichier json\n",
    "with open('data/sytral_tcl_sytral.tclarret_sans_bus.json', 'w') as outfile:\n",
    "    json.dump(dataArret, outfile)"
   ]
  },
  {
   "cell_type": "code",
   "execution_count": null,
   "id": "8bd1cd9b",
   "metadata": {},
   "outputs": [],
   "source": []
  }
 ],
 "metadata": {
  "kernelspec": {
   "display_name": "Python 3",
   "language": "python",
   "name": "python3"
  },
  "language_info": {
   "codemirror_mode": {
    "name": "ipython",
    "version": 3
   },
   "file_extension": ".py",
   "mimetype": "text/x-python",
   "name": "python",
   "nbconvert_exporter": "python",
   "pygments_lexer": "ipython3",
   "version": "3.9.7"
  }
 },
 "nbformat": 4,
 "nbformat_minor": 5
}
