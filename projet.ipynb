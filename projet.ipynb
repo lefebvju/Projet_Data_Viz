{
 "cells": [
  {
   "cell_type": "code",
   "execution_count": 37,
   "id": "4d0cce9f6ad16825",
   "metadata": {
    "ExecuteTime": {
     "end_time": "2023-12-19T10:33:37.052134821Z",
     "start_time": "2023-12-19T10:33:37.003745165Z"
    },
    "collapsed": false
   },
   "outputs": [],
   "source": [
    "import json\n",
    "import csv"
   ]
  },
  {
   "cell_type": "markdown",
   "id": "1493d631",
   "metadata": {},
   "source": [
    "## Simplification des fichiers TCL initiaux"
   ]
  },
  {
   "cell_type": "code",
   "execution_count": 42,
   "id": "initial_id",
   "metadata": {
    "ExecuteTime": {
     "end_time": "2023-12-19T10:33:37.995657138Z",
     "start_time": "2023-12-19T10:33:37.860247141Z"
    },
    "collapsed": true
   },
   "outputs": [],
   "source": [
    "# lire fichier json\n",
    "dataArret = {}\n",
    "with open('data/sytral_tcl_sytral.tclarret.json') as json_file:\n",
    "    dataArret = json.load(json_file)\n",
    "\n",
    "dataLigne = {}\n",
    "with open('data/sytral_tcl_sytral.tcllignemetrofuni_2_0_0.json') as json_file:\n",
    "    dataLigne = json.load(json_file)\n",
    "    \n",
    "dataLigneTram = {}\n",
    "with open('data/sytral_tcl_sytral.tcllignetram_2_0_0.json') as json_file:\n",
    "    dataLigneTram = json.load(json_file)\n"
   ]
  },
  {
   "cell_type": "code",
   "execution_count": 43,
   "id": "47878cb14e41bdc5",
   "metadata": {
    "ExecuteTime": {
     "end_time": "2023-12-19T10:33:39.248685093Z",
     "start_time": "2023-12-19T10:33:39.245716015Z"
    },
    "collapsed": false
   },
   "outputs": [],
   "source": [
    "lignes= set()\n",
    "for ligne in dataLigne['features']:\n",
    "    lignes.add((ligne['properties'][\"code_ligne\"],ligne['properties'][\"ligne\"]))\n",
    "for ligne in dataLigneTram['features']:\n",
    "    lignes.add((ligne['properties'][\"code_ligne\"],ligne['properties'][\"ligne\"]))"
   ]
  },
  {
   "cell_type": "code",
   "execution_count": 44,
   "id": "610b2ddc4170c0dd",
   "metadata": {
    "ExecuteTime": {
     "end_time": "2023-12-19T10:33:40.373991956Z",
     "start_time": "2023-12-19T10:33:40.323923868Z"
    },
    "collapsed": false
   },
   "outputs": [],
   "source": [
    "# supprimer les lignes qui ne sont pas dans lignes\n",
    "dataArretcopy= dataArret.copy()\n",
    "dataArret['features']=[]\n",
    "for arret in dataArretcopy['features']:\n",
    "    add=False\n",
    "    for transport in arret['properties']['desserte'].split(','):\n",
    "        for ligne in lignes:\n",
    "            if transport.split(':')[0] == ligne[0]:\n",
    "                add=True\n",
    "                # si nom_ligne n'existe pas, on le crée\n",
    "                if 'nom_ligne' not in arret['properties']:\n",
    "                    arret['properties']['nom_ligne']=set()\n",
    "                arret['properties']['nom_ligne'].add(ligne[1])\n",
    "    if add:\n",
    "        arret['properties']['nom_ligne']=list(arret['properties']['nom_ligne'])\n",
    "        dataArret['features'].append(arret)\n",
    "                \n",
    "                "
   ]
  },
  {
   "cell_type": "code",
   "execution_count": 45,
   "id": "fd31bc143b85b04c",
   "metadata": {
    "ExecuteTime": {
     "end_time": "2023-12-19T10:33:44.191638244Z",
     "start_time": "2023-12-19T10:33:44.162285339Z"
    },
    "collapsed": false
   },
   "outputs": [],
   "source": [
    "with open('data/sytral_tcl_sytral.tclarret_sans_bus.json', 'w') as outfile:\n",
    "    json.dump(dataArret, outfile)"
   ]
  },
  {
   "cell_type": "markdown",
   "id": "c6920aee",
   "metadata": {},
   "source": [
    "## Conversion fichier frequentation en csv"
   ]
  },
  {
   "cell_type": "code",
   "execution_count": 111,
   "id": "5e6e7348",
   "metadata": {},
   "outputs": [],
   "source": [
    "# Lecture du fichier de fréquentation\n",
    "with open('data/frequentationTCL.txt', encoding='utf-8') as f:\n",
    "    dataFrequentation = f.readlines()\n",
    "\n",
    "dataFrequentation = [x.strip() for x in dataFrequentation]\n"
   ]
  },
  {
   "cell_type": "code",
   "execution_count": 112,
   "id": "50209158",
   "metadata": {},
   "outputs": [],
   "source": [
    "# Parsing du fichier de fréquentation\n",
    "data = {}\n",
    "l_stations = []\n",
    "for stations in dataFrequentation:\n",
    "    if stations == \"\": continue\n",
    "    else:\n",
    "        lig = stations.split(':')\n",
    "        lig[0] = lig[0].strip()\n",
    "        lig[1] = lig[1].strip()\n",
    "        if lig[0].replace(' ','')==\"Ligne\":\n",
    "            ligne=lig[1]\n",
    "            data[ligne]={}\n",
    "        elif lig[0].replace(' ','')==\"Total\":\n",
    "            data[ligne][\"Total\"]=lig[1]\n",
    "        else:\n",
    "            data[ligne][lig[0]]=lig[1]\n",
    "            l_stations.append(lig[0])\n"
   ]
  },
  {
   "cell_type": "code",
   "execution_count": 113,
   "id": "3776d7c6",
   "metadata": {},
   "outputs": [],
   "source": [
    "with open('data/frequentationTCL.csv', 'w', encoding='utf-8') as csv_file:\n",
    "    writer = csv.writer(csv_file)\n",
    "    writer.writerow([\"ligne\",\"arret\",\"frequentation\"])\n",
    "    for ligne in data:\n",
    "        for arret in data[ligne]:\n",
    "            if arret!=\"Total\":\n",
    "                writer.writerow([ligne,arret,data[ligne][arret]])"
   ]
  },
  {
   "cell_type": "markdown",
   "id": "031f1257",
   "metadata": {},
   "source": [
    "## Ajout des fréquentations dans le fichier des arrêts\t"
   ]
  },
  {
   "cell_type": "code",
   "execution_count": 114,
   "id": "b60598dd",
   "metadata": {},
   "outputs": [
    {
     "name": "stdout",
     "output_type": "stream",
     "text": [
      "Oullins Centre ['B']\n",
      "Oullins Centre ['B']\n",
      "St-Genis-Laval Hôp. Sud ['B']\n",
      "St-Genis-Laval Hôp. Sud ['B']\n"
     ]
    }
   ],
   "source": [
    "dataArret = {}\n",
    "with open('data/sytral_tcl_sytral.tclarret_sans_bus.json') as json_file:\n",
    "    dataArret = json.load(json_file)\n",
    "\n",
    "# Ajout de la fréquentation dans le fichier json\n",
    "for arret in dataArret['features']:\n",
    "    if arret['properties']['nom'].strip() in l_stations or arret['properties']['nom_ligne'][0] in ['F1','F2','T6','T7']:\n",
    "        # arret['properties']['frequentation']=data[arret['properties']['nom']]['Total']\n",
    "        pass\n",
    "    else:\n",
    "        print(arret['properties']['nom'], arret['properties']['nom_ligne'])\n",
    "        arret['properties']['frequentation']=0  "
   ]
  },
  {
   "cell_type": "code",
   "execution_count": null,
   "id": "a23df122",
   "metadata": {},
   "outputs": [],
   "source": []
  }
 ],
 "metadata": {
  "kernelspec": {
   "display_name": "Python 3",
   "language": "python",
   "name": "python3"
  },
  "language_info": {
   "codemirror_mode": {
    "name": "ipython",
    "version": 3
   },
   "file_extension": ".py",
   "mimetype": "text/x-python",
   "name": "python",
   "nbconvert_exporter": "python",
   "pygments_lexer": "ipython3",
   "version": "3.9.7"
  }
 },
 "nbformat": 4,
 "nbformat_minor": 5
}
