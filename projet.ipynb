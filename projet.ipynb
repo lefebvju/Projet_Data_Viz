{
 "cells": [
  {
   "cell_type": "code",
   "execution_count": 41,
   "outputs": [],
   "source": [
    "import json"
   ],
   "metadata": {
    "collapsed": false,
    "ExecuteTime": {
     "end_time": "2023-12-19T10:33:37.052134821Z",
     "start_time": "2023-12-19T10:33:37.003745165Z"
    }
   },
   "id": "4d0cce9f6ad16825"
  },
  {
   "cell_type": "code",
   "execution_count": 42,
   "id": "initial_id",
   "metadata": {
    "collapsed": true,
    "ExecuteTime": {
     "end_time": "2023-12-19T10:33:37.995657138Z",
     "start_time": "2023-12-19T10:33:37.860247141Z"
    }
   },
   "outputs": [],
   "source": [
    "# lire fichier json\n",
    "dataArret = {}\n",
    "with open('data/sytral_tcl_sytral.tclarret.json') as json_file:\n",
    "    dataArret = json.load(json_file)\n",
    "\n",
    "dataLigne = {}\n",
    "with open('data/sytral_tcl_sytral.tcllignemetrofuni_2_0_0.json') as json_file:\n",
    "    dataLigne = json.load(json_file)\n",
    "    \n",
    "dataLigneTram = {}\n",
    "with open('data/sytral_tcl_sytral.tcllignetram_2_0_0.json') as json_file:\n",
    "    dataLigneTram = json.load(json_file)\n"
   ]
  },
  {
   "cell_type": "code",
   "execution_count": 43,
   "outputs": [],
   "source": [
    "lignes= set()\n",
    "for ligne in dataLigne['features']:\n",
    "    lignes.add((ligne['properties'][\"code_ligne\"],ligne['properties'][\"ligne\"]))\n",
    "for ligne in dataLigneTram['features']:\n",
    "    lignes.add((ligne['properties'][\"code_ligne\"],ligne['properties'][\"ligne\"]))"
   ],
   "metadata": {
    "collapsed": false,
    "ExecuteTime": {
     "end_time": "2023-12-19T10:33:39.248685093Z",
     "start_time": "2023-12-19T10:33:39.245716015Z"
    }
   },
   "id": "47878cb14e41bdc5"
  },
  {
   "cell_type": "code",
   "execution_count": 44,
   "outputs": [],
   "source": [
    "# supprimer les lignes qui ne sont pas dans lignes\n",
    "dataArretcopy= dataArret.copy()\n",
    "dataArret['features']=[]\n",
    "for arret in dataArretcopy['features']:\n",
    "    add=False\n",
    "    for transport in arret['properties']['desserte'].split(','):\n",
    "        for ligne in lignes:\n",
    "            if transport.split(':')[0] == ligne[0]:\n",
    "                add=True\n",
    "                # si nom_ligne n'existe pas, on le crée\n",
    "                if 'nom_ligne' not in arret['properties']:\n",
    "                    arret['properties']['nom_ligne']=set()\n",
    "                arret['properties']['nom_ligne'].add(ligne[1])\n",
    "    if add:\n",
    "        arret['properties']['nom_ligne']=list(arret['properties']['nom_ligne'])\n",
    "        dataArret['features'].append(arret)\n",
    "                \n",
    "                "
   ],
   "metadata": {
    "collapsed": false,
    "ExecuteTime": {
     "end_time": "2023-12-19T10:33:40.373991956Z",
     "start_time": "2023-12-19T10:33:40.323923868Z"
    }
   },
   "id": "610b2ddc4170c0dd"
  },
  {
   "cell_type": "code",
   "execution_count": 45,
   "outputs": [],
   "source": [
    "# save dataArret\n",
    "with open('data/sytral_tcl_sytral.tclarret_sans_bus.json', 'w') as outfile:\n",
    "    json.dump(dataArret, outfile)"
   ],
   "metadata": {
    "collapsed": false,
    "ExecuteTime": {
     "end_time": "2023-12-19T10:33:44.191638244Z",
     "start_time": "2023-12-19T10:33:44.162285339Z"
    }
   },
   "id": "fd31bc143b85b04c"
  }
 ],
 "metadata": {
  "kernelspec": {
   "display_name": "Python 3",
   "language": "python",
   "name": "python3"
  },
  "language_info": {
   "codemirror_mode": {
    "name": "ipython",
    "version": 2
   },
   "file_extension": ".py",
   "mimetype": "text/x-python",
   "name": "python",
   "nbconvert_exporter": "python",
   "pygments_lexer": "ipython2",
   "version": "2.7.6"
  }
 },
 "nbformat": 4,
 "nbformat_minor": 5
}
